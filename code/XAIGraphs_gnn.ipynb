{
 "cells": [
  {
   "cell_type": "code",
   "source": [
    "import torch"
   ],
   "metadata": {
    "id": "T8KuPgslQ-CV"
   },
   "execution_count": 1,
   "outputs": []
  },
  {
   "cell_type": "markdown",
   "source": [
    "### Setup in google colab"
   ],
   "metadata": {
    "collapsed": false
   }
  },
  {
   "cell_type": "code",
   "source": [
    "# def format_pytorch_version(version):\n",
    "#   return version.split('+')[0]\n",
    "#\n",
    "# TORCH_version = torch.__version__\n",
    "# TORCH = format_pytorch_version(TORCH_version)\n",
    "#\n",
    "# def format_cuda_version(version):\n",
    "#   return 'cu' + version.replace('.', '')\n",
    "#\n",
    "# CUDA_version = torch.version.cuda\n",
    "# CUDA = \"cpu\"\n",
    "#\n",
    "# !pip install torch-scatter     -f https://pytorch-geometric.com/whl/torch-{TORCH}+{CUDA}.html\n",
    "# !pip install torch-sparse      -f https://pytorch-geometric.com/whl/torch-{TORCH}+{CUDA}.html\n",
    "# !pip install torch-cluster     -f https://pytorch-geometric.com/whl/torch-{TORCH}+{CUDA}.html\n",
    "# !pip install torch-spline-conv -f https://pytorch-geometric.com/whl/torch-{TORCH}+{CUDA}.html\n",
    "# !pip install torch-geometric\n",
    "#"
   ],
   "metadata": {
    "colab": {
     "base_uri": "https://localhost:8080/"
    },
    "id": "nv6x1s15RB-D",
    "outputId": "6bff7b91-c7a1-46d2-daa1-532bc3c8a315"
   },
   "execution_count": 2,
   "outputs": []
  },
  {
   "cell_type": "code",
   "source": [
    "# !git clone https://github.com/funket/zorro.git\n",
    "#"
   ],
   "metadata": {
    "colab": {
     "base_uri": "https://localhost:8080/"
    },
    "id": "sk-fKWz6RO9M",
    "outputId": "650ab4d3-45e2-4d88-91e9-7095a32d5abb"
   },
   "execution_count": 3,
   "outputs": []
  },
  {
   "cell_type": "code",
   "source": [
    "# !pwd\n",
    "#"
   ],
   "metadata": {
    "colab": {
     "base_uri": "https://localhost:8080/"
    },
    "id": "-oXUDeOyRgt4",
    "outputId": "bc2c1be3-89a0-4bf9-8e52-444d113d12a8"
   },
   "execution_count": 4,
   "outputs": []
  },
  {
   "cell_type": "code",
   "source": [
    "# %cd zorro/\n",
    "#"
   ],
   "metadata": {
    "colab": {
     "base_uri": "https://localhost:8080/"
    },
    "id": "_Eo-J8SYRicX",
    "outputId": "6004253a-2dcc-4763-8634-e0d7ae0db0d8"
   },
   "execution_count": 5,
   "outputs": []
  },
  {
   "cell_type": "code",
   "source": [
    "# !pwd"
   ],
   "metadata": {
    "colab": {
     "base_uri": "https://localhost:8080/"
    },
    "id": "WT0kEgBuRnvt",
    "outputId": "214699ba-151e-4bc7-a100-56552b16fc31"
   },
   "execution_count": 6,
   "outputs": []
  },
  {
   "cell_type": "code",
   "execution_count": 7,
   "metadata": {
    "collapsed": true,
    "id": "Y_qfpRevQ8wm"
   },
   "outputs": [],
   "source": [
    "from explainer import *\n",
    "from models import *\n",
    "import torch\n",
    "import matplotlib.pylab as plt"
   ]
  },
  {
   "cell_type": "markdown",
   "source": [
    "# Data loading and GNN training"
   ],
   "metadata": {
    "collapsed": false,
    "id": "3Ik8h53wQ8wr"
   }
  },
  {
   "cell_type": "code",
   "execution_count": 8,
   "outputs": [],
   "source": [
    "device = torch.device('cuda' if torch.cuda.is_available() else 'cpu')\n",
    "dataset, data, results_path = load_dataset(\"Cora\")\n",
    "model = GCNNet(dataset)\n",
    "model.to(device)\n",
    "data = data.to(device)"
   ],
   "metadata": {
    "pycharm": {
     "name": "#%%\n"
    },
    "colab": {
     "base_uri": "https://localhost:8080/"
    },
    "id": "7m1OlRIAQ8wt",
    "outputId": "7c0201db-4530-42c4-9f4a-1787480b2705"
   }
  },
  {
   "cell_type": "code",
   "execution_count": 9,
   "outputs": [
    {
     "name": "stdout",
     "output_type": "stream",
     "text": [
      "Accuracy: 0.3470\n",
      "Accuracy: 0.7360\n",
      "Accuracy: 0.7350\n",
      "Accuracy: 0.7410\n",
      "Accuracy: 0.7530\n",
      "Accuracy: 0.7580\n",
      "Accuracy: 0.7410\n",
      "Accuracy: 0.7540\n"
     ]
    },
    {
     "data": {
      "text/plain": "[]"
     },
     "execution_count": 9,
     "metadata": {},
     "output_type": "execute_result"
    }
   ],
   "source": [
    "train_model(model, data)"
   ],
   "metadata": {
    "pycharm": {
     "name": "#%%\n"
    },
    "colab": {
     "base_uri": "https://localhost:8080/"
    },
    "id": "e5bNvZzmQ8wu",
    "outputId": "76c6e660-5dfc-45d3-f62f-14a62495823f"
   }
  },
  {
   "cell_type": "markdown",
   "source": [
    "# Gradient based explanation"
   ],
   "metadata": {
    "collapsed": false,
    "id": "8Ifr8w0JQ8wv"
   }
  },
  {
   "cell_type": "code",
   "execution_count": 10,
   "outputs": [],
   "source": [
    "from gnn_explainer import GNNExplainer\n",
    "\n",
    "# GNNExplainer class needed for retrieval of computational graph\n",
    "gnn_explainer = GNNExplainer(model, log=False)\n",
    "\n",
    "explain_node = 0"
   ],
   "metadata": {
    "pycharm": {
     "name": "#%%\n"
    },
    "id": "4FaYbl62Q8ww"
   }
  },
  {
   "cell_type": "code",
   "execution_count": 11,
   "outputs": [],
   "source": [
    "def execute_model_with_gradient(model, node, x, edge_index):\n",
    "    \"\"\"Helper function, which mainly does a forward pass of the GNN\"\"\"\n",
    "    ypred = model(x, edge_index)\n",
    "\n",
    "    predicted_labels = ypred.argmax(dim=-1)\n",
    "    predicted_label = predicted_labels[node]\n",
    "    logit = torch.nn.functional.softmax((ypred[node, :]).squeeze(), dim=0)\n",
    "\n",
    "    logit = logit[predicted_label]\n",
    "    loss = -torch.log(logit)\n",
    "    loss.backward()"
   ],
   "metadata": {
    "pycharm": {
     "name": "#%%\n"
    },
    "id": "QVtGOuIIQ8wx"
   }
  },
  {
   "cell_type": "code",
   "execution_count": 12,
   "outputs": [],
   "source": [
    "def get_grad_node_explanation(model, node, data):\n",
    "    \"\"\"Calculates the gradient feature and node explanation\"\"\"\n",
    "\n",
    "    # retrieve computational graph\n",
    "    computation_graph_feature_matrix, computation_graph_edge_index, mapping, hard_edge_mask, kwargs = \\\n",
    "                                    gnn_explainer.__subgraph__(node, data.x, data.edge_index)\n",
    "    # from now only work on the computational graph\n",
    "    x = computation_graph_feature_matrix\n",
    "    edge_index = computation_graph_edge_index\n",
    "\n",
    "    # create a mask of ones which will be differentiated\n",
    "    num_nodes, num_features = x.size()\n",
    "    node_grad = torch.nn.Parameter(torch.ones(num_nodes, device=x.device))\n",
    "    feature_grad = torch.nn.Parameter(torch.ones(num_features, device=x.device))\n",
    "    node_grad.requires_grad = True\n",
    "    feature_grad.requires_grad = True\n",
    "    mask = node_grad.unsqueeze(0).T.matmul(feature_grad.unsqueeze(0))\n",
    "\n",
    "    model.zero_grad()\n",
    "    execute_model_with_gradient(model, mapping, mask*x, edge_index)\n",
    "\n",
    "    node_mask = torch.abs(node_grad.grad).cpu().detach().numpy()\n",
    "    feature_mask = torch.abs(feature_grad.grad).cpu().detach().numpy()\n",
    "\n",
    "    return feature_mask, node_mask"
   ],
   "metadata": {
    "pycharm": {
     "name": "#%%\n"
    },
    "id": "CppOdP6NQ8wx"
   }
  },
  {
   "cell_type": "code",
   "source": [
    "grad_explanation = get_grad_node_explanation(model, explain_node, data)"
   ],
   "metadata": {
    "colab": {
     "base_uri": "https://localhost:8080/"
    },
    "id": "jmjUCbApRwpe",
    "outputId": "0742718e-0231-4e3d-8e8d-44676f5087b2"
   },
   "execution_count": 13,
   "outputs": []
  },
  {
   "cell_type": "code",
   "execution_count": 14,
   "outputs": [
    {
     "data": {
      "text/plain": "<Figure size 432x288 with 1 Axes>",
      "image/png": "[encoded data removed]"
     },
     "metadata": {
      "needs_background": "light"
     },
     "output_type": "display_data"
    }
   ],
   "source": [
    "plt.title(\"Distribution of Feature mask\")\n",
    "plt.hist(grad_explanation[0])\n",
    "plt.yscale(\"log\")"
   ],
   "metadata": {
    "collapsed": false,
    "pycharm": {
     "name": "#%%\n"
    }
   }
  },
  {
   "cell_type": "markdown",
   "source": [
    "##### Possible task: implementation of GradInput"
   ],
   "metadata": {
    "collapsed": false,
    "id": "LtBkV46GQ8wz"
   }
  },
  {
   "cell_type": "code",
   "execution_count": 14,
   "outputs": [],
   "source": [],
   "metadata": {
    "pycharm": {
     "name": "#%%\n"
    },
    "id": "55Htke8YQ8wz"
   }
  },
  {
   "cell_type": "markdown",
   "source": [
    "# GNNExplainer"
   ],
   "metadata": {
    "collapsed": false,
    "id": "2qM-yixWQ8wz"
   }
  },
  {
   "cell_type": "code",
   "execution_count": 15,
   "outputs": [],
   "source": [
    "def get_gnn_explainer(node, data):\n",
    "    feature_mask, edge_mask = gnn_explainer.explain_node(node, data.x, data.edge_index)\n",
    "    return feature_mask, edge_mask"
   ],
   "metadata": {
    "pycharm": {
     "name": "#%%\n"
    },
    "id": "-y8VWKjhQ8w0"
   }
  },
  {
   "cell_type": "code",
   "source": [
    "gnn_explanation = get_gnn_explainer(explain_node, data)"
   ],
   "metadata": {
    "colab": {
     "base_uri": "https://localhost:8080/"
    },
    "id": "Z5BRP2rGR1Wx",
    "outputId": "f5c38cec-b10f-453d-9f0e-11896871a683"
   },
   "execution_count": 16,
   "outputs": []
  },
  {
   "cell_type": "code",
   "execution_count": 17,
   "outputs": [
    {
     "data": {
      "text/plain": "<Figure size 432x288 with 1 Axes>",
      "image/png": "[encoded data removed]"
     },
     "metadata": {
      "needs_background": "light"
     },
     "output_type": "display_data"
    }
   ],
   "source": [
    "plt.title(\"Distribution of Feature mask\")\n",
    "plt.hist(gnn_explanation[0])\n",
    "plt.yscale(\"log\")"
   ],
   "metadata": {
    "collapsed": false,
    "pycharm": {
     "name": "#%%\n"
    }
   }
  },
  {
   "cell_type": "markdown",
   "source": [
    "# Zorro"
   ],
   "metadata": {
    "id": "Az3xEGHASQrz"
   }
  },
  {
   "cell_type": "code",
   "source": [
    "from explainer import Zorro\n",
    "\n",
    "zorro = Zorro(model, device)\n",
    "def get_zorro(node):\n",
    "    # Same as the 0.98 in the paper\n",
    "    tau = .03\n",
    "    # only retrieve 1 explanation\n",
    "    recursion_depth = 1\n",
    "\n",
    "    explanation = zorro.explain_node(node, data.x, data.edge_index, tau=tau, recursion_depth=recursion_depth,)\n",
    "\n",
    "    selected_nodes, selected_features, executed_selections = explanation[0]\n",
    "\n",
    "    return selected_features[0], selected_nodes[0]"
   ],
   "metadata": {
    "id": "mMbIchxVSSva"
   },
   "execution_count": 18,
   "outputs": []
  },
  {
   "cell_type": "code",
   "source": [
    "zorro_explanation = get_zorro(explain_node)"
   ],
   "metadata": {
    "colab": {
     "base_uri": "https://localhost:8080/"
    },
    "id": "RSXLOLDATCDo",
    "outputId": "2f592425-203b-4338-abd7-c9250b972670"
   },
   "execution_count": 19,
   "outputs": [
    {
     "name": "stderr",
     "output_type": "stream",
     "text": [
      "\n",
      "  0%|          | 0/11464 [00:00<?, ?it/s]\u001B[A\n",
      "Argmax 0, 0.53: 100%|██████████| 8/8 [00:01<00:00,  7.77it/s]\n",
      "Argmax 19, 0.53: 100%|██████████| 1433/1433 [02:45<00:00,  8.66it/s]             \n",
      "\n",
      "Explain node 0:   0%|          | 1/11464 [02:46<531:21:01, 166.87s/it]\u001B[A"
     ]
    },
    {
     "name": "stdout",
     "output_type": "stream",
     "text": [
      "0.27\n"
     ]
    },
    {
     "name": "stderr",
     "output_type": "stream",
     "text": [
      "Argmax 5, 0.10999999999999999: 100%|██████████| 8/8 [00:00<00:00,  8.56it/s]\n",
      "\n",
      "Explain node 0:   0%|          | 2/11464 [02:47<220:44:23, 69.33s/it] \u001B[A"
     ]
    },
    {
     "name": "stdout",
     "output_type": "stream",
     "text": [
      "0.38\n"
     ]
    },
    {
     "name": "stderr",
     "output_type": "stream",
     "text": [
      "Argmax 0, 0.10999999999999999: 100%|██████████| 7/7 [00:00<00:00,  8.89it/s]\n",
      "Argmax 774, 0.13: 100%|██████████| 10/10 [00:01<00:00,  8.75it/s]               \n",
      "\n",
      "Explain node 0:   0%|          | 3/11464 [02:49<122:56:08, 38.62s/it]\u001B[A"
     ]
    },
    {
     "name": "stdout",
     "output_type": "stream",
     "text": [
      "0.51\n"
     ]
    },
    {
     "name": "stderr",
     "output_type": "stream",
     "text": [
      "Argmax 0, 0.30999999999999994: 100%|██████████| 7/7 [00:00<00:00,  8.73it/s]\n",
      "Argmax 507, 0.030000000000000027: 100%|██████████| 10/10 [00:01<00:00,  8.76it/s]\n",
      "\n",
      "Explain node 0:   0%|          | 4/11464 [02:52<77:00:08, 24.19s/it] \u001B[A"
     ]
    },
    {
     "name": "stdout",
     "output_type": "stream",
     "text": [
      "0.82\n"
     ]
    },
    {
     "name": "stderr",
     "output_type": "stream",
     "text": [
      "Argmax 1, 0.10000000000000009: 100%|██████████| 6/6 [00:00<00:00,  8.43it/s]\n",
      "Argmax 507, 0.050000000000000044: 100%|██████████| 10/10 [00:01<00:00,  8.74it/s]\n",
      "\n",
      "Explain node 0:   0%|          | 5/11464 [02:54<51:29:47, 16.18s/it]\u001B[A"
     ]
    },
    {
     "name": "stdout",
     "output_type": "stream",
     "text": [
      "0.92\n"
     ]
    },
    {
     "name": "stderr",
     "output_type": "stream",
     "text": [
      "Argmax 2, 0.05999999999999994: 100%|██████████| 5/5 [00:00<00:00,  8.54it/s]\n",
      "Argmax 540, 0.039999999999999925: 100%|██████████| 10/10 [00:01<00:00,  7.99it/s]\n",
      "\n",
      "Explain node 0:   0%|          | 6/11464 [02:55<36:05:56, 11.34s/it]\u001B[A"
     ]
    },
    {
     "name": "stdout",
     "output_type": "stream",
     "text": [
      "0.98\n"
     ]
    },
    {
     "name": "stderr",
     "output_type": "stream",
     "text": [
      "Explain node 0:   0%|          | 6/11464 [02:56<93:28:57, 29.37s/it]\n"
     ]
    }
   ]
  },
  {
   "cell_type": "code",
   "execution_count": 20,
   "outputs": [
    {
     "data": {
      "text/plain": "<Figure size 432x288 with 1 Axes>",
      "image/png": "[encoded data removed]"
     },
     "metadata": {
      "needs_background": "light"
     },
     "output_type": "display_data"
    }
   ],
   "source": [
    "plt.title(\"Distribution of Feature mask\")\n",
    "plt.hist(zorro_explanation[0])\n",
    "plt.yscale(\"log\")"
   ],
   "metadata": {
    "collapsed": false,
    "pycharm": {
     "name": "#%%\n"
    }
   }
  },
  {
   "cell_type": "markdown",
   "source": [
    "# SoftZorro"
   ],
   "metadata": {
    "collapsed": false
   }
  },
  {
   "cell_type": "code",
   "execution_count": 21,
   "outputs": [],
   "source": [
    "from explainer import SoftZorro\n",
    "\n",
    "soft_zorro = SoftZorro(model, device)\n",
    "\n",
    "def get_soft_zorro(node):\n",
    "    node_mask, feature_mask = soft_zorro.explain_node(node, data.x, data.edge_index)\n",
    "    return feature_mask[0], node_mask[0]"
   ],
   "metadata": {
    "collapsed": false,
    "pycharm": {
     "name": "#%%\n"
    }
   }
  },
  {
   "cell_type": "code",
   "execution_count": 22,
   "outputs": [],
   "source": [
    "soft_zorro_explanation = get_soft_zorro(explain_node)"
   ],
   "metadata": {
    "collapsed": false,
    "pycharm": {
     "name": "#%%\n"
    }
   }
  },
  {
   "cell_type": "code",
   "execution_count": 23,
   "outputs": [
    {
     "data": {
      "text/plain": "<Figure size 432x288 with 1 Axes>",
      "image/png": "[encoded data removed]"
     },
     "metadata": {
      "needs_background": "light"
     },
     "output_type": "display_data"
    }
   ],
   "source": [
    "plt.title(\"Distribution of Feature mask\")\n",
    "plt.hist(soft_zorro_explanation[0])\n",
    "plt.yscale(\"log\")"
   ],
   "metadata": {
    "collapsed": false,
    "pycharm": {
     "name": "#%%\n"
    }
   }
  }
 ],
 "metadata": {
  "kernelspec": {
   "display_name": "Python 3",
   "language": "python",
   "name": "python3"
  },
  "language_info": {
   "codemirror_mode": {
    "name": "ipython",
    "version": 2
   },
   "file_extension": ".py",
   "mimetype": "text/x-python",
   "name": "python",
   "nbconvert_exporter": "python",
   "pygments_lexer": "ipython2",
   "version": "2.7.6"
  },
  "colab": {
   "name": "xaiss_hands_on_xai_gnn.ipynb",
   "provenance": [],
   "collapsed_sections": []
  }
 },
 "nbformat": 4,
 "nbformat_minor": 0
}